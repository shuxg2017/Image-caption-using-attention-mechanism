{
 "cells": [
  {
   "cell_type": "markdown",
   "metadata": {},
   "source": [
    "### Import Feature Extractor\n",
    "- input shape: 299x299x3\n",
    "- feature shape: 8x8x2048"
   ]
  },
  {
   "cell_type": "code",
   "execution_count": 1,
   "metadata": {},
   "outputs": [],
   "source": [
    "from tensorflow.keras.applications.inception_v3 import InceptionV3\n",
    "from tensorflow.keras.applications.inception_v3 import preprocess_input\n",
    "import tensorflow as tf"
   ]
  },
  {
   "cell_type": "code",
   "execution_count": 2,
   "metadata": {},
   "outputs": [],
   "source": [
    "pretrained_model = InceptionV3(include_top=False,\n",
    "                               weights='imagenet')"
   ]
  },
  {
   "cell_type": "code",
   "execution_count": 3,
   "metadata": {},
   "outputs": [],
   "source": [
    "feature_extractor = tf.keras.Model(pretrained_model.input,\n",
    "                                   pretrained_model.layers[-1].output)"
   ]
  },
  {
   "cell_type": "markdown",
   "metadata": {},
   "source": [
    "### JPEG Files"
   ]
  },
  {
   "cell_type": "code",
   "execution_count": 4,
   "metadata": {},
   "outputs": [],
   "source": [
    "import os\n",
    "import numpy as np\n",
    "import matplotlib.pyplot as plt"
   ]
  },
  {
   "cell_type": "code",
   "execution_count": 5,
   "metadata": {},
   "outputs": [],
   "source": [
    "jpeg_files = os.listdir('train2014')\n",
    "jpeg_files = [os.path.join('train2014', f) for f in jpeg_files]"
   ]
  },
  {
   "cell_type": "code",
   "execution_count": 6,
   "metadata": {},
   "outputs": [
    {
     "data": {
      "text/plain": [
       "82783"
      ]
     },
     "execution_count": 6,
     "metadata": {},
     "output_type": "execute_result"
    }
   ],
   "source": [
    "len(jpeg_files)"
   ]
  },
  {
   "cell_type": "markdown",
   "metadata": {},
   "source": [
    "### Save Features"
   ]
  },
  {
   "cell_type": "code",
   "execution_count": 7,
   "metadata": {},
   "outputs": [],
   "source": [
    "from tqdm import tqdm"
   ]
  },
  {
   "cell_type": "code",
   "execution_count": 8,
   "metadata": {},
   "outputs": [],
   "source": [
    "save_main = 'train_inceptionv3_feature'"
   ]
  },
  {
   "cell_type": "code",
   "execution_count": 9,
   "metadata": {},
   "outputs": [],
   "source": [
    "# for file in tqdm(jpeg_files):\n",
    "#     # load image\n",
    "#     img = plt.imread(file)\n",
    "#     if len(img.shape) != 3:\n",
    "#         img = np.concatenate([img[...,np.newaxis]]*3, axis=-1)\n",
    "#     img = cv2.resize(img, (299, 299))\n",
    "#     # get feature map (8,8,2048)\n",
    "#     img = preprocess_input(img)\n",
    "#     fm = feature_extractor(img[np.newaxis, ...])[0]\n",
    "#     # get jpeg file name\n",
    "#     name = file.split('\\\\')[-1].split('.')[0]\n",
    "#     save_to = os.path.join(save_main, name)\n",
    "#     np.save(save_to, fm)"
   ]
  },
  {
   "cell_type": "code",
   "execution_count": 10,
   "metadata": {},
   "outputs": [],
   "source": [
    "def load_image(jpeg_path):\n",
    "    img = tf.io.read_file(jpeg_path)\n",
    "    img = tf.image.decode_jpeg(img, channels=3)\n",
    "    img = tf.image.resize(img, (299, 299))\n",
    "    img = preprocess_input(img)\n",
    "    return img, jpeg_path"
   ]
  },
  {
   "cell_type": "code",
   "execution_count": 11,
   "metadata": {},
   "outputs": [
    {
     "name": "stderr",
     "output_type": "stream",
     "text": [
      "2587it [1:43:56,  2.41s/it]\n"
     ]
    }
   ],
   "source": [
    "jpegfile_dataset = tf.data.Dataset.from_tensor_slices(jpeg_files)\n",
    "jpegfile_dataset = jpegfile_dataset.map(load_image,\n",
    "                   num_parallel_calls=tf.data.experimental.AUTOTUNE).batch(32)\n",
    "for img, path in tqdm(jpegfile_dataset):\n",
    "    batch_features = feature_extractor(img)\n",
    "    batch_features = tf.reshape(batch_features,\n",
    "                                (batch_features.shape[0], -1, batch_features.shape[3]))\n",
    "    for bf, p in zip(batch_features, path):\n",
    "        name = p.numpy().decode('utf-8').split('\\\\')[-1].split('.')[0]\n",
    "        save_to = os.path.join(save_main, name)\n",
    "        np.save(save_to, bf.numpy())"
   ]
  },
  {
   "cell_type": "code",
   "execution_count": null,
   "metadata": {},
   "outputs": [],
   "source": []
  }
 ],
 "metadata": {
  "kernelspec": {
   "display_name": "Python 3",
   "language": "python",
   "name": "python3"
  },
  "language_info": {
   "codemirror_mode": {
    "name": "ipython",
    "version": 3
   },
   "file_extension": ".py",
   "mimetype": "text/x-python",
   "name": "python",
   "nbconvert_exporter": "python",
   "pygments_lexer": "ipython3",
   "version": "3.7.7"
  }
 },
 "nbformat": 4,
 "nbformat_minor": 4
}
